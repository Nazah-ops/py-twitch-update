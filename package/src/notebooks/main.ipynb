{
 "cells": [
  {
   "cell_type": "markdown",
   "id": "26bbf22d-3245-4607-a1ef-e4aa2112d0f8",
   "metadata": {},
   "source": [
    "# Adding imports"
   ]
  },
  {
   "cell_type": "code",
   "execution_count": 1,
   "id": "37c06340-c243-4e5c-a58c-bb94cf94a197",
   "metadata": {},
   "outputs": [
    {
     "name": "stderr",
     "output_type": "stream",
     "text": [
      "2023-12-04 12:06:08.716075: I tensorflow/core/util/port.cc:113] oneDNN custom operations are on. You may see slightly different numerical results due to floating-point round-off errors from different computation orders. To turn them off, set the environment variable `TF_ENABLE_ONEDNN_OPTS=0`.\n",
      "2023-12-04 12:06:08.717707: I external/local_tsl/tsl/cuda/cudart_stub.cc:31] Could not find cuda drivers on your machine, GPU will not be used.\n",
      "2023-12-04 12:06:08.740937: E external/local_xla/xla/stream_executor/cuda/cuda_dnn.cc:9261] Unable to register cuDNN factory: Attempting to register factory for plugin cuDNN when one has already been registered\n",
      "2023-12-04 12:06:08.740969: E external/local_xla/xla/stream_executor/cuda/cuda_fft.cc:607] Unable to register cuFFT factory: Attempting to register factory for plugin cuFFT when one has already been registered\n",
      "2023-12-04 12:06:08.741657: E external/local_xla/xla/stream_executor/cuda/cuda_blas.cc:1515] Unable to register cuBLAS factory: Attempting to register factory for plugin cuBLAS when one has already been registered\n",
      "2023-12-04 12:06:08.745618: I external/local_tsl/tsl/cuda/cudart_stub.cc:31] Could not find cuda drivers on your machine, GPU will not be used.\n",
      "2023-12-04 12:06:08.746269: I tensorflow/core/platform/cpu_feature_guard.cc:182] This TensorFlow binary is optimized to use available CPU instructions in performance-critical operations.\n",
      "To enable the following instructions: AVX2 AVX_VNNI FMA, in other operations, rebuild TensorFlow with the appropriate compiler flags.\n",
      "2023-12-04 12:06:09.281854: W tensorflow/compiler/tf2tensorrt/utils/py_utils.cc:38] TF-TRT Warning: Could not find TensorRT\n"
     ]
    }
   ],
   "source": [
    "import requests\n",
    "import os\n",
    "import json\n",
    "import datetime\n",
    "import logging as logger\n",
    "import cv2\n",
    "import numpy as np\n",
    "import face_recognition\n",
    "\n",
    "from os.path import join, dirname\n",
    "from dotenv import load_dotenv\n",
    "from bs4 import BeautifulSoup\n",
    "from moviepy.editor import *\n",
    "from keras.models import model_from_json"
   ]
  },
  {
   "cell_type": "code",
   "execution_count": 16,
   "id": "95b1a1fb-25d2-4a57-bdf1-db1935f7f8f0",
   "metadata": {},
   "outputs": [],
   "source": [
    "dotenv_path = join(dirname(os.path.abspath('')), '.env')\n",
    "load_dotenv(dotenv_path)\n",
    "os.chdir('/app')\n",
    "\n",
    "logger.basicConfig(format='%(asctime)s %(message)s', datefmt='%m/%d/%Y %I:%M:%S %p')\n",
    "\n",
    "def dump_json(data, path):\n",
    "    with open(path, 'w', encoding='utf-8') as f:\n",
    "        json.dump(data, f, ensure_ascii=False, indent=4)\n",
    "\n",
    "\n",
    "def get_twitch_token():\n",
    "    payload = {\n",
    "        'client_id' : os.environ.get(\"CLIENT_ID\"),\n",
    "        'client_secret': os.environ.get(\"CLIENT_SECRET\"),\n",
    "        'grant_type': 'client_credentials'\n",
    "    }\n",
    "    headers = {'Content-Type': 'application/x-www-form-urlencoded'}\n",
    "    response = requests.post(\"https://id.twitch.tv/oauth2/token\", headers=headers, data=payload)\n",
    "\n",
    "    return json.loads(response.text)[\"access_token\"]\n",
    "\n",
    "\n",
    "token = get_twitch_token()\n",
    "headers = {'Authorization': f'Bearer {token}', 'Client-Id': os.environ.get(\"CLIENT_ID\")}"
   ]
  },
  {
   "cell_type": "code",
   "execution_count": 17,
   "id": "c359b764-b8df-44cd-8e40-bfa8847c75a4",
   "metadata": {},
   "outputs": [],
   "source": [
    "class HiddenPrints:\n",
    "    def __enter__(self):\n",
    "        self._original_stdout = sys.stdout\n",
    "        sys.stdout = open(os.devnull, 'w')\n",
    "\n",
    "    def __exit__(self, exc_type, exc_val, exc_tb):\n",
    "        sys.stdout.close()\n",
    "        sys.stdout = self._original_stdout\n"
   ]
  },
  {
   "cell_type": "code",
   "execution_count": 18,
   "id": "486b6c97-95c1-418a-a12d-a7c80d14b707",
   "metadata": {},
   "outputs": [],
   "source": [
    "def get_streamers():\n",
    "    '''\n",
    "    Retreive from a third party website the list of the most watched streamers\n",
    "    Returns a list of strings\n",
    "    '''\n",
    "    results = []\n",
    "    request = requests.get('https://www.twitchmetrics.net/channels/viewership?game=League+of+Legends&lang=en&page=1')\n",
    "    parsed_html = BeautifulSoup(request.text)\n",
    "\n",
    "    for name in parsed_html.body.find_all('h5', attrs={'class':'mr-2 mb-0'}):\n",
    "        results.append(name.get_text())\n",
    "    \n",
    "    return results\n",
    "\n"
   ]
  },
  {
   "cell_type": "code",
   "execution_count": 19,
   "id": "be94543e-e216-4e57-b079-ff027b274118",
   "metadata": {},
   "outputs": [],
   "source": [
    "def convert_name_to_id(name):\n",
    "    '''\n",
    "        Converts the basic name (e.g. Thebausffs) to the broadcaster id, which twitch uses to identify the streamer\n",
    "        There are some exceptions with names, that involve whitespaces between them: only staff members can use them, and when putting\n",
    "        the name in the endpoint will result in a error, so the name has to be stripped of it\n",
    "    '''\n",
    "    params = { \"login\" : \"\".join(name.split()) }\n",
    "    request = requests.get(f'https://api.twitch.tv/helix/users', headers=headers, params=params)\n",
    "    if request.ok:\n",
    "        return json.loads(request.text)[\"data\"][0][\"id\"]\n",
    "    else:\n",
    "        raise Exception(f'Error from twitch endpoint {request.text}')\n",
    "\n"
   ]
  },
  {
   "cell_type": "code",
   "execution_count": 20,
   "id": "cd98a8b9-483b-4ed5-b90b-c1d0c0529c74",
   "metadata": {},
   "outputs": [],
   "source": [
    "def clips_from_broadcaster_id(id):\n",
    "    '''Retreives the clips from a streamer, based also on timeframe, and sorted by views'''\n",
    "    format_time = \"%Y-%m-%dT%H:%M:%SZ\"\n",
    "    params = {\n",
    "        \"broadcaster_id\" : id,\n",
    "        \"started_at\" : (datetime.datetime.now() - datetime.timedelta(days=3)).strftime(format_time),\n",
    "        \"ended_at\" : datetime.datetime.now().strftime(format_time)\n",
    "    }\n",
    "    request = requests.get(f'https://api.twitch.tv/helix/clips', headers=headers, params=params)\n",
    "    return json.loads(request.text)[\"data\"]\n",
    "\n"
   ]
  },
  {
   "cell_type": "code",
   "execution_count": 25,
   "id": "8389eb2d-178b-416d-a52b-3f2d5c8d5219",
   "metadata": {},
   "outputs": [],
   "source": [
    "def download_clip(clip):\n",
    "    path = f'/app/files/clips/{clip[\"title\"]}.mp4'\n",
    "    index = clip[\"thumbnail_url\"].find('-preview')\n",
    "    clip_url = clip[\"thumbnail_url\"][:index] + '.mp4'\n",
    "    r = requests.get(clip_url)\n",
    "\n",
    "    if r.headers['Content-Type'] == 'binary/octet-stream':\n",
    "        if not os.path.exists('files/clips'): os.makedirs('files/clips')\n",
    "        with open(path, 'wb') as f:\n",
    "            f.write(r.content)\n",
    "        return path\n",
    "    else:\n",
    "        print(f'Failed to download clip from thumb: {clip[\"thumbnail_url\"]}')\n",
    "\n"
   ]
  },
  {
   "cell_type": "code",
   "execution_count": 22,
   "id": "59895f39-dd74-419f-b00e-e95a23dc546c",
   "metadata": {},
   "outputs": [],
   "source": [
    "def overlay_video(original_video, overlay_video):\n",
    "    output_path=\"output.mp4\"\n",
    "\n",
    "    video_clip = VideoFileClip((original_video), target_resolution=(1080, 1920)) #b .mp4 file\n",
    "\n",
    "    overlay_clip = VideoFileClip((overlay_video), has_mask=True, target_resolution=(1080, 1920)) #.mov file with alpha channel\n",
    "\n",
    "    final_video = CompositeVideoClip([video_clip, overlay_clip])  \n",
    "\n",
    "\n",
    "    final_video.write_videofile(\n",
    "        output_path,\n",
    "        threads = 6,\n",
    "    )"
   ]
  },
  {
   "cell_type": "code",
   "execution_count": 23,
   "id": "70ce5019-141f-408e-99aa-f41e43b9f920",
   "metadata": {},
   "outputs": [],
   "source": [
    "def main():\n",
    "    logger.info('Program started')\n",
    "    logger.info('BRUH')\n",
    "\n",
    "    time = 2 * 60\n",
    "    video_time = 0\n",
    "\n",
    "    clips = []\n",
    "\n",
    "    streamers = get_streamers()\n",
    "\n",
    "    for streamer in streamers:\n",
    "        if streamer == \"Riot Games\":\n",
    "            continue\n",
    "        streamer_id = convert_name_to_id(streamer)\n",
    "        clips_downloaded = clips_from_broadcaster_id(streamer_id)[:3]\n",
    "        if video_time > time:\n",
    "            break\n",
    "        for clip in clips_downloaded:\n",
    "            video_time += float(clip[\"duration\"])\n",
    "            clips.append(download_clip(clip))\n",
    "    \n",
    "    transition_time = 2\n",
    "    video_clips = [VideoFileClip(clips.pop(0))]\n",
    "    \n",
    "    for clip in clips:\n",
    "        video_clips.append(VideoFileClip(clip).crossfadein(transition_time))\n",
    "\n",
    "    final = concatenate_videoclips(video_clips, padding=-transition_time, method=\"compose\")\n",
    "    final.write_videofile(\"files/clips/final_output.mp4\")\n",
    "    #Adding intro\n",
    "    overlay_video(\"files/clips/final_output.mp4\", \"files/intro.mov\")\n"
   ]
  },
  {
   "cell_type": "code",
   "execution_count": null,
   "id": "d0eb2f30-b75f-4e32-ac4c-ebeaefa2fab5",
   "metadata": {},
   "outputs": [],
   "source": [
    "main()"
   ]
  },
  {
   "cell_type": "code",
   "execution_count": 26,
   "id": "133c7b1a-7219-49f7-a48d-95d07d8a4f5a",
   "metadata": {},
   "outputs": [],
   "source": [
    "time = 2 * 60\n",
    "video_time = 0\n",
    "\n",
    "clips = []\n",
    "\n",
    "streamers = get_streamers()\n",
    "\n",
    "for streamer in streamers:\n",
    "    if streamer == \"Riot Games\":\n",
    "        continue\n",
    "    streamer_id = convert_name_to_id(streamer)\n",
    "    clips_downloaded = clips_from_broadcaster_id(streamer_id)[:3]\n",
    "    if video_time > time:\n",
    "        break\n",
    "    for clip in clips_downloaded:\n",
    "        video_time += float(clip[\"duration\"])\n",
    "        clips.append(download_clip(clip))\n"
   ]
  },
  {
   "cell_type": "markdown",
   "id": "f790f1ed-ec3b-41c4-8850-2213b22354fb",
   "metadata": {},
   "source": [
    "# Original"
   ]
  },
  {
   "cell_type": "code",
   "execution_count": 13,
   "id": "58ccec2e-dc97-4b03-9e7b-02aa2775f25f",
   "metadata": {},
   "outputs": [],
   "source": [
    "import matplotlib.pyplot as plt\n",
    "import matplotlib.image as mpimg\n",
    "def read_video_emotion(video):\n",
    "\n",
    "    vidcap = cv2.VideoCapture(f'/app/files/clips/{video}')\n",
    "    success,image = vidcap.read()\n",
    "    \n",
    "    if not success:\n",
    "        print(\"Video not correctly loaded, presumably not there\")\n",
    "    \n",
    "    results_percentage = {'angry': 0, 'disgust': 0, 'fear': 0, 'happy': 0, 'neutral': 0, 'sad': 0, 'surprise': 0}\n",
    "    labels = {0 : 'angry', 1 : 'disgust', 2 : 'fear', 3 : 'happy', 4 : 'neutral', 5 : 'sad', 6 : 'surprise'}\n",
    "\n",
    "    \n",
    "    \n",
    "    def extract_features(face_image):\n",
    "        smaller_face_image = cv2.resize(face_image,(48,48))\n",
    "        feature = np.array(smaller_face_image)\n",
    "        feature = feature.reshape(1,48,48,1)\n",
    "        return feature/255.0\n",
    "    \n",
    "    json_file = open(\"/app/files/models/emotion/emotiondetector.json\", \"r\")\n",
    "    model = model_from_json(json_file.read())\n",
    "    json_file.close()\n",
    "    model.load_weights(\"/app/files/models/emotion/emotiondetector.h5\")\n",
    "\n",
    "    multp = 3\n",
    "    skip = 0\n",
    "    \n",
    "    while success:\n",
    "        success,image = vidcap.read()\n",
    "\n",
    "        if success is False:\n",
    "            break\n",
    "\n",
    "        #Elaborate 1 in each X frames for efficency. Faces don't change that quicly\n",
    "        if skip < 90:\n",
    "            skip += 1\n",
    "            continue\n",
    "\n",
    "        skip = 0\n",
    "        \n",
    "        #Reduce the size of the image to examine for efficency purposes\n",
    "        face_locations = face_recognition.face_locations(cv2.resize(image, (0, 0), fx=1/multp, fy=1/multp), model=\"cnn\")\n",
    "        \n",
    "        if len(face_locations) == 0:\n",
    "            continue\n",
    "        \n",
    "        gray = cv2.cvtColor(image,cv2.COLOR_BGR2GRAY)\n",
    "        top, right, bottom, left = face_locations[0]\n",
    "        face_image = gray[top*multp : bottom*multp, left*multp : right*multp]\n",
    "        imgplot = plt.imshow(face_image)\n",
    "        plt.show()\n",
    "        \n",
    "        extracted_img = extract_features(face_image)\n",
    "        with HiddenPrints():\n",
    "            pred = model.predict(extracted_img)\n",
    "        results_percentage[labels[pred.argmax()]] += 1\n",
    "        print(labels[pred.argmax()])\n",
    "    return results_percentage"
   ]
  },
  {
   "cell_type": "markdown",
   "id": "5bbb0105-d45f-40b8-83bb-f376402706c0",
   "metadata": {},
   "source": [
    "## Riorganizzare i video, in modo semplicistico (felice, brutto, felice, brutto)"
   ]
  },
  {
   "cell_type": "code",
   "execution_count": 5,
   "id": "22758852-bd66-4fc8-8e32-d4aae628d923",
   "metadata": {},
   "outputs": [],
   "source": [
    "bruh = read_video_emotion(\"ner.mp4\")"
   ]
  },
  {
   "cell_type": "code",
   "execution_count": 28,
   "id": "1a0b99d1-f0f0-44b7-890e-f1ac9273b0f9",
   "metadata": {
    "scrolled": true
   },
   "outputs": [
    {
     "name": "stdout",
     "output_type": "stream",
     "text": [
      "CPU times: user 1min 18s, sys: 9.31 s, total: 1min 27s\n",
      "Wall time: 1min 21s\n"
     ]
    }
   ],
   "source": [
    "%%time\n",
    "results = read_video_emotion('b.mp4')"
   ]
  },
  {
   "cell_type": "code",
   "execution_count": null,
   "id": "f70f4fcc-5e31-4272-9e4c-9c1ffa59896f",
   "metadata": {},
   "outputs": [],
   "source": [
    "plt.imshow(cv2.cvtColor(image, cv2.COLOR_BGR2RGB))\n",
    "plt.show()"
   ]
  },
  {
   "cell_type": "markdown",
   "id": "b12edf4c-a3a2-4277-a0b9-cf51b0251751",
   "metadata": {},
   "source": [
    "## Testando il centramento dell'immagine al video"
   ]
  },
  {
   "cell_type": "code",
   "execution_count": 1,
   "id": "ff423296-709b-4221-8316-fdd548d0062c",
   "metadata": {},
   "outputs": [],
   "source": [
    "import moviepy.editor as mpy\n",
    "from moviepy.video.fx.all import crop\n",
    "\n",
    "clip = mpy.VideoFileClip(\"video.mp4\")\n",
    "(w, h) = clip.size\n"
   ]
  },
  {
   "cell_type": "code",
   "execution_count": 2,
   "id": "b4504f4b-3aa1-478b-b1ad-f3ca36bb4aab",
   "metadata": {},
   "outputs": [
    {
     "data": {
      "text/plain": [
       "(1280, 720)"
      ]
     },
     "execution_count": 2,
     "metadata": {},
     "output_type": "execute_result"
    }
   ],
   "source": [
    "(w, h)"
   ]
  },
  {
   "cell_type": "code",
   "execution_count": 3,
   "id": "afa90f01-a8a4-455b-a138-e4167a4e76b6",
   "metadata": {},
   "outputs": [
    {
     "name": "stdout",
     "output_type": "stream",
     "text": [
      "Moviepy - Building video resized.mp4.\n",
      "MoviePy - Writing audio in resizedTEMP_MPY_wvf_snd.mp3\n"
     ]
    },
    {
     "name": "stderr",
     "output_type": "stream",
     "text": [
      "                                                                    \r"
     ]
    },
    {
     "name": "stdout",
     "output_type": "stream",
     "text": [
      "MoviePy - Done.\n",
      "Moviepy - Writing video resized.mp4\n",
      "\n"
     ]
    },
    {
     "name": "stderr",
     "output_type": "stream",
     "text": [
      "                                                               "
     ]
    },
    {
     "name": "stdout",
     "output_type": "stream",
     "text": [
      "Moviepy - Done !\n",
      "Moviepy - video ready resized.mp4\n"
     ]
    },
    {
     "name": "stderr",
     "output_type": "stream",
     "text": [
      "\r"
     ]
    }
   ],
   "source": [
    "crop_width = h * 9/16\n",
    "# x1,y1 is the top left corner, and x2, y2 is the lower right corner of the cropped area.\n",
    "\n",
    "x1, x2 = (w - crop_width)//2, (w+crop_width)//2\n",
    "y1, y2 = 0, h\n",
    "cropped_clip = crop(clip, x1=x1, y1=y1, x2=x2, y2=y2)\n",
    "# or you can specify center point and cropped width/height\n",
    "# cropped_clip = crop(clip, width=crop_width, height=h, x_center=w/2, y_center=h/2)\n",
    "cropped_clip.write_videofile('resized.mp4')"
   ]
  },
  {
   "cell_type": "code",
   "execution_count": 5,
   "id": "bac7ab8f-1265-4940-a46a-6d39e5d79568",
   "metadata": {},
   "outputs": [
    {
     "name": "stdout",
     "output_type": "stream",
     "text": [
      "Moviepy - Building video test.mp4.\n",
      "MoviePy - Writing audio in testTEMP_MPY_wvf_snd.mp3\n"
     ]
    },
    {
     "name": "stderr",
     "output_type": "stream",
     "text": [
      "                                                                    \r"
     ]
    },
    {
     "name": "stdout",
     "output_type": "stream",
     "text": [
      "MoviePy - Done.\n",
      "Moviepy - Writing video test.mp4\n",
      "\n"
     ]
    },
    {
     "name": "stderr",
     "output_type": "stream",
     "text": [
      "                                                               \r"
     ]
    },
    {
     "name": "stdout",
     "output_type": "stream",
     "text": [
      "Moviepy - Done !\n",
      "Moviepy - video ready test.mp4\n"
     ]
    }
   ],
   "source": [
    "from moviepy.editor import *\n",
    "import PIL\n",
    "PIL.Image.ANTIALIAS = PIL.Image.LANCZOS\n",
    "video = VideoFileClip(\"resized.mp4\")\n",
    "\n",
    "title = ImageClip(\"main.png\").set_start(0).set_duration(video.duration).set_pos((\"center\",\"center\")).resize(height=200)\n",
    "\n",
    "final = CompositeVideoClip([video, title])\n",
    "final.write_videofile(\"test.mp4\")"
   ]
  },
  {
   "cell_type": "markdown",
   "id": "6e3d45fd-1496-43a8-aeb6-e7653cfd5298",
   "metadata": {},
   "source": [
    "# Riconoscimento di suoni con Yamnet"
   ]
  },
  {
   "cell_type": "code",
   "execution_count": 1,
   "id": "84ce8af5-b574-4709-9c20-38d36813af70",
   "metadata": {},
   "outputs": [
    {
     "ename": "OSError",
     "evalue": "MoviePy error: the file percorso_al_tuo_video.mp4 could not be found!\nPlease check that you entered the correct path.",
     "output_type": "error",
     "traceback": [
      "\u001b[0;31m---------------------------------------------------------------------------\u001b[0m",
      "\u001b[0;31mOSError\u001b[0m                                   Traceback (most recent call last)",
      "Cell \u001b[0;32mIn[1], line 6\u001b[0m\n\u001b[1;32m      4\u001b[0m video_path \u001b[38;5;241m=\u001b[39m \u001b[38;5;124m\"\u001b[39m\u001b[38;5;124mpercorso_al_tuo_video.mp4\u001b[39m\u001b[38;5;124m\"\u001b[39m\n\u001b[1;32m      5\u001b[0m audio_path \u001b[38;5;241m=\u001b[39m \u001b[38;5;124m\"\u001b[39m\u001b[38;5;124maudio_estratto.wav\u001b[39m\u001b[38;5;124m\"\u001b[39m\n\u001b[0;32m----> 6\u001b[0m clip \u001b[38;5;241m=\u001b[39m \u001b[43mVideoFileClip\u001b[49m\u001b[43m(\u001b[49m\u001b[43mvideo_path\u001b[49m\u001b[43m)\u001b[49m\n\u001b[1;32m      7\u001b[0m clip\u001b[38;5;241m.\u001b[39maudio\u001b[38;5;241m.\u001b[39mwrite_audiofile(audio_path)\n",
      "File \u001b[0;32m/usr/local/lib/python3.9/site-packages/moviepy/video/io/VideoFileClip.py:88\u001b[0m, in \u001b[0;36mVideoFileClip.__init__\u001b[0;34m(self, filename, has_mask, audio, audio_buffersize, target_resolution, resize_algorithm, audio_fps, audio_nbytes, verbose, fps_source)\u001b[0m\n\u001b[1;32m     86\u001b[0m \u001b[38;5;66;03m# Make a reader\u001b[39;00m\n\u001b[1;32m     87\u001b[0m pix_fmt \u001b[38;5;241m=\u001b[39m \u001b[38;5;124m\"\u001b[39m\u001b[38;5;124mrgba\u001b[39m\u001b[38;5;124m\"\u001b[39m \u001b[38;5;28;01mif\u001b[39;00m has_mask \u001b[38;5;28;01melse\u001b[39;00m \u001b[38;5;124m\"\u001b[39m\u001b[38;5;124mrgb24\u001b[39m\u001b[38;5;124m\"\u001b[39m\n\u001b[0;32m---> 88\u001b[0m \u001b[38;5;28mself\u001b[39m\u001b[38;5;241m.\u001b[39mreader \u001b[38;5;241m=\u001b[39m \u001b[43mFFMPEG_VideoReader\u001b[49m\u001b[43m(\u001b[49m\u001b[43mfilename\u001b[49m\u001b[43m,\u001b[49m\u001b[43m \u001b[49m\u001b[43mpix_fmt\u001b[49m\u001b[38;5;241;43m=\u001b[39;49m\u001b[43mpix_fmt\u001b[49m\u001b[43m,\u001b[49m\n\u001b[1;32m     89\u001b[0m \u001b[43m                                 \u001b[49m\u001b[43mtarget_resolution\u001b[49m\u001b[38;5;241;43m=\u001b[39;49m\u001b[43mtarget_resolution\u001b[49m\u001b[43m,\u001b[49m\n\u001b[1;32m     90\u001b[0m \u001b[43m                                 \u001b[49m\u001b[43mresize_algo\u001b[49m\u001b[38;5;241;43m=\u001b[39;49m\u001b[43mresize_algorithm\u001b[49m\u001b[43m,\u001b[49m\n\u001b[1;32m     91\u001b[0m \u001b[43m                                 \u001b[49m\u001b[43mfps_source\u001b[49m\u001b[38;5;241;43m=\u001b[39;49m\u001b[43mfps_source\u001b[49m\u001b[43m)\u001b[49m\n\u001b[1;32m     93\u001b[0m \u001b[38;5;66;03m# Make some of the reader's attributes accessible from the clip\u001b[39;00m\n\u001b[1;32m     94\u001b[0m \u001b[38;5;28mself\u001b[39m\u001b[38;5;241m.\u001b[39mduration \u001b[38;5;241m=\u001b[39m \u001b[38;5;28mself\u001b[39m\u001b[38;5;241m.\u001b[39mreader\u001b[38;5;241m.\u001b[39mduration\n",
      "File \u001b[0;32m/usr/local/lib/python3.9/site-packages/moviepy/video/io/ffmpeg_reader.py:35\u001b[0m, in \u001b[0;36mFFMPEG_VideoReader.__init__\u001b[0;34m(self, filename, print_infos, bufsize, pix_fmt, check_duration, target_resolution, resize_algo, fps_source)\u001b[0m\n\u001b[1;32m     33\u001b[0m \u001b[38;5;28mself\u001b[39m\u001b[38;5;241m.\u001b[39mfilename \u001b[38;5;241m=\u001b[39m filename\n\u001b[1;32m     34\u001b[0m \u001b[38;5;28mself\u001b[39m\u001b[38;5;241m.\u001b[39mproc \u001b[38;5;241m=\u001b[39m \u001b[38;5;28;01mNone\u001b[39;00m\n\u001b[0;32m---> 35\u001b[0m infos \u001b[38;5;241m=\u001b[39m \u001b[43mffmpeg_parse_infos\u001b[49m\u001b[43m(\u001b[49m\u001b[43mfilename\u001b[49m\u001b[43m,\u001b[49m\u001b[43m \u001b[49m\u001b[43mprint_infos\u001b[49m\u001b[43m,\u001b[49m\u001b[43m \u001b[49m\u001b[43mcheck_duration\u001b[49m\u001b[43m,\u001b[49m\n\u001b[1;32m     36\u001b[0m \u001b[43m                           \u001b[49m\u001b[43mfps_source\u001b[49m\u001b[43m)\u001b[49m\n\u001b[1;32m     37\u001b[0m \u001b[38;5;28mself\u001b[39m\u001b[38;5;241m.\u001b[39mfps \u001b[38;5;241m=\u001b[39m infos[\u001b[38;5;124m'\u001b[39m\u001b[38;5;124mvideo_fps\u001b[39m\u001b[38;5;124m'\u001b[39m]\n\u001b[1;32m     38\u001b[0m \u001b[38;5;28mself\u001b[39m\u001b[38;5;241m.\u001b[39msize \u001b[38;5;241m=\u001b[39m infos[\u001b[38;5;124m'\u001b[39m\u001b[38;5;124mvideo_size\u001b[39m\u001b[38;5;124m'\u001b[39m]\n",
      "File \u001b[0;32m/usr/local/lib/python3.9/site-packages/moviepy/video/io/ffmpeg_reader.py:270\u001b[0m, in \u001b[0;36mffmpeg_parse_infos\u001b[0;34m(filename, print_infos, check_duration, fps_source)\u001b[0m\n\u001b[1;32m    268\u001b[0m lines \u001b[38;5;241m=\u001b[39m infos\u001b[38;5;241m.\u001b[39msplitlines()\n\u001b[1;32m    269\u001b[0m \u001b[38;5;28;01mif\u001b[39;00m \u001b[38;5;124m\"\u001b[39m\u001b[38;5;124mNo such file or directory\u001b[39m\u001b[38;5;124m\"\u001b[39m \u001b[38;5;129;01min\u001b[39;00m lines[\u001b[38;5;241m-\u001b[39m\u001b[38;5;241m1\u001b[39m]:\n\u001b[0;32m--> 270\u001b[0m     \u001b[38;5;28;01mraise\u001b[39;00m \u001b[38;5;167;01mIOError\u001b[39;00m((\u001b[38;5;124m\"\u001b[39m\u001b[38;5;124mMoviePy error: the file \u001b[39m\u001b[38;5;132;01m%s\u001b[39;00m\u001b[38;5;124m could not be found!\u001b[39m\u001b[38;5;130;01m\\n\u001b[39;00m\u001b[38;5;124m\"\u001b[39m\n\u001b[1;32m    271\u001b[0m                   \u001b[38;5;124m\"\u001b[39m\u001b[38;5;124mPlease check that you entered the correct \u001b[39m\u001b[38;5;124m\"\u001b[39m\n\u001b[1;32m    272\u001b[0m                   \u001b[38;5;124m\"\u001b[39m\u001b[38;5;124mpath.\u001b[39m\u001b[38;5;124m\"\u001b[39m)\u001b[38;5;241m%\u001b[39mfilename)\n\u001b[1;32m    274\u001b[0m result \u001b[38;5;241m=\u001b[39m \u001b[38;5;28mdict\u001b[39m()\n\u001b[1;32m    277\u001b[0m \u001b[38;5;66;03m# get duration (in seconds)\u001b[39;00m\n",
      "\u001b[0;31mOSError\u001b[0m: MoviePy error: the file percorso_al_tuo_video.mp4 could not be found!\nPlease check that you entered the correct path."
     ]
    }
   ],
   "source": [
    "from moviepy.editor import VideoFileClip\n",
    "\n",
    "# Carica il video e salva l'audio come file .wav\n",
    "video_path = \"percorso_al_tuo_video.mp4\"\n",
    "audio_path = \"audio_estratto.wav\"\n",
    "clip = VideoFileClip(video_path)\n",
    "clip.audio.write_audiofile(audio_path)"
   ]
  },
  {
   "cell_type": "code",
   "execution_count": 1,
   "id": "0594d7be-c94f-45e4-a18d-8f67c52b8d56",
   "metadata": {},
   "outputs": [
    {
     "ename": "ModuleNotFoundError",
     "evalue": "No module named 'tensorflow_hub'",
     "output_type": "error",
     "traceback": [
      "\u001b[0;31m---------------------------------------------------------------------------\u001b[0m",
      "\u001b[0;31mModuleNotFoundError\u001b[0m                       Traceback (most recent call last)",
      "Cell \u001b[0;32mIn[1], line 1\u001b[0m\n\u001b[0;32m----> 1\u001b[0m \u001b[38;5;28;01mimport\u001b[39;00m \u001b[38;5;21;01mtensorflow_hub\u001b[39;00m \u001b[38;5;28;01mas\u001b[39;00m \u001b[38;5;21;01mhub\u001b[39;00m\n\u001b[1;32m      2\u001b[0m \u001b[38;5;28;01mimport\u001b[39;00m \u001b[38;5;21;01mlibrosa\u001b[39;00m\n\u001b[1;32m      3\u001b[0m \u001b[38;5;28;01mimport\u001b[39;00m \u001b[38;5;21;01mnumpy\u001b[39;00m \u001b[38;5;28;01mas\u001b[39;00m \u001b[38;5;21;01mnp\u001b[39;00m\n",
      "\u001b[0;31mModuleNotFoundError\u001b[0m: No module named 'tensorflow_hub'"
     ]
    }
   ],
   "source": [
    "import tensorflow_hub as hub\n",
    "import librosa\n",
    "import numpy as np\n",
    "\n",
    "# Carica il modello YAMNet da TensorFlow Hub\n",
    "yamnet_model = hub.load(\"https://tfhub.dev/google/yamnet/1\")\n",
    "\n",
    "# Carica l'audio con librosa\n",
    "audio, sr = librosa.load(audio_path, sr=16000)  # YAMNet funziona a 16 kHz\n",
    "\n",
    "# Esegui la classificazione con YAMNet\n",
    "scores, embeddings, spectrogram = yamnet_model(audio)\n",
    "\n",
    "# Ottieni la previsione delle classi\n",
    "predicted_class = np.argmax(scores, axis=1)\n"
   ]
  },
  {
   "cell_type": "code",
   "execution_count": 5,
   "id": "e2f44f0a-75a0-42c6-a810-ec111ef53944",
   "metadata": {},
   "outputs": [
    {
     "name": "stdout",
     "output_type": "stream",
     "text": [
      "culo\n"
     ]
    }
   ],
   "source": [
    "if 123213:\n",
    "    print(\"culo\")"
   ]
  },
  {
   "cell_type": "code",
   "execution_count": 1,
   "id": "5e6fe4fb-5ceb-4ffa-bfda-a4c40c99b928",
   "metadata": {},
   "outputs": [],
   "source": [
    "file = \"22\"\n",
    "test = {file}"
   ]
  },
  {
   "cell_type": "code",
   "execution_count": 2,
   "id": "fc14ee8f-4979-495b-91ed-efe71ec1aa45",
   "metadata": {},
   "outputs": [
    {
     "data": {
      "text/plain": [
       "{'22'}"
      ]
     },
     "execution_count": 2,
     "metadata": {},
     "output_type": "execute_result"
    }
   ],
   "source": [
    "test"
   ]
  },
  {
   "cell_type": "code",
   "execution_count": null,
   "id": "846be72d-5eca-48fd-b291-8fedb443fdaa",
   "metadata": {},
   "outputs": [],
   "source": []
  }
 ],
 "metadata": {
  "kernelspec": {
   "display_name": "Python 3 (ipykernel)",
   "language": "python",
   "name": "python3"
  },
  "language_info": {
   "codemirror_mode": {
    "name": "ipython",
    "version": 3
   },
   "file_extension": ".py",
   "mimetype": "text/x-python",
   "name": "python",
   "nbconvert_exporter": "python",
   "pygments_lexer": "ipython3",
   "version": "3.9.20"
  }
 },
 "nbformat": 4,
 "nbformat_minor": 5
}
