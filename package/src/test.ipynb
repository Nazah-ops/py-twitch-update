{
 "cells": [
  {
   "cell_type": "code",
   "execution_count": 1,
   "id": "eabbb78d-61bf-4fd2-b841-4a02d26b0983",
   "metadata": {},
   "outputs": [],
   "source": [
    "import logging\n",
    "import ssl\n",
    "\n",
    "from dotenv import load_dotenv\n",
    "\n",
    "from integrations.pexel import Orientation, Pexel\n",
    "from integrations.reddit import Reddit, Trend\n",
    "from integrations.sound import Sound\n",
    "from integrations.twitch import Twitch\n",
    "from title import TitleGeneration\n",
    "from utils.format import make_reel\n",
    "from utils.globals import clean_work_dir\n",
    "from utils.mongo import close_mongo_client\n",
    "from video_editor import VideoEditor\n",
    "from youtube import upload\n",
    "\n",
    "\"\"\" from youtube import Youtube \"\"\"\n",
    "\n",
    "TOTAL_VIDEO_TIME = 1 * 60\n",
    "\n",
    "logging.basicConfig(format=\"[%(asctime)s] - %(message)s\", level=logging.INFO,\n",
    "                    datefmt='%Y-%m-%d %H:%M:%S')\n",
    "\n",
    "ssl._create_default_https_context = ssl._create_unverified_context\n",
    "\n",
    "\n",
    "def main():\n",
    "    logging.info('Inizio processo di scraping e upload.')\n",
    "    load_dotenv(\"/app/keys/.env\")\n",
    "\n",
    "    clean_work_dir()\n",
    "    video, title = make_reel()\n",
    "    upload(video, title)\n",
    "    logging.info(f\"Video produced: {video}\")\n",
    "    \n",
    "    close_mongo_client()\n",
    "\n",
    "\n",
    "# NOTE TO SELF\n",
    "# per convertire un AVI pesante per l'into a un mov -> ffmpeg -i Editor.avi -map 0 -c:v png -c:a copy output.mov\n"
   ]
  },
  {
   "cell_type": "markdown",
   "id": "3b2e7923-4b78-4872-8110-b0b9a7cac53d",
   "metadata": {},
   "source": [
    "## GET SPOTY ACCESS TOKEN"
   ]
  },
  {
   "cell_type": "code",
   "execution_count": 14,
   "id": "eaafbdcb-7ddf-48a0-8f0a-50d77a97c326",
   "metadata": {},
   "outputs": [],
   "source": [
    "import requests\n",
    "import random\n",
    "import string\n",
    "import webbrowser\n",
    "\n",
    "# Configurazione\n",
    "client_id = '509ea51b57c34d2f804717e48b3f8969'\n",
    "redirect_uri = 'localhost'\n",
    "scope = 'user-read-private user-read-email'\n",
    "\n",
    "# Genera una stringa casuale per il parametro state\n",
    "def generate_random_string(length):\n",
    "    return ''.join(random.choices(string.ascii_letters + string.digits, k=length))\n",
    "\n",
    "# Step 1: Prepara l'URL di autorizzazione\n",
    "def get_authorization_url():\n",
    "    state = generate_random_string(16)\n",
    "    params = {\n",
    "        'response_type': 'code',\n",
    "        'client_id': client_id,\n",
    "        'scope': scope,\n",
    "        'redirect_uri': redirect_uri,\n",
    "        'state': state,\n",
    "    }\n",
    "    url = f\"https://accounts.spotify.com/authorize?{requests.compat.urlencode(params)}\"\n",
    "    return url\n",
    "\n",
    "data = get_authorization_url()\n"
   ]
  },
  {
   "cell_type": "code",
   "execution_count": 15,
   "id": "637fb6cb-2a40-4927-9792-2ec1505882e6",
   "metadata": {},
   "outputs": [
    {
     "data": {
      "text/plain": [
       "'https://accounts.spotify.com/authorize?response_type=code&client_id=509ea51b57c34d2f804717e48b3f8969&scope=user-read-private+user-read-email&redirect_uri=localhost&state=vCq2wD5UR1WhJQ07'"
      ]
     },
     "execution_count": 15,
     "metadata": {},
     "output_type": "execute_result"
    }
   ],
   "source": [
    "data"
   ]
  },
  {
   "cell_type": "markdown",
   "id": "45c32bd3-64ab-475c-9809-33933df1aa1c",
   "metadata": {},
   "source": [
    "## GET POPULAR SEGMENT"
   ]
  },
  {
   "cell_type": "code",
   "execution_count": 16,
   "id": "77d398b7-a1e4-4784-b7e3-9b0baff464de",
   "metadata": {},
   "outputs": [
    {
     "name": "stdout",
     "output_type": "stream",
     "text": [
      "{'error': {'status': 401, 'message': 'The access token expired'}}\n"
     ]
    }
   ],
   "source": [
    "import requests\n",
    "\n",
    "def get_audio_analysis(spotify_id, access_token):\n",
    "    url = f\"https://api.spotify.com/v1/audio-analysis/{spotify_id}\"\n",
    "    headers = {\n",
    "        \"Authorization\": f\"Bearer {access_token}\"\n",
    "    }\n",
    "    response = requests.get(url, headers=headers)\n",
    "    return response.json()\n",
    "\n",
    "# Replace with your Spotify ID and token\n",
    "spotify_id = \"2WuK1opHQzRo18YXCtY2DF\"\n",
    "\n",
    "audio_analysis = get_audio_analysis(spotify_id, token)\n",
    "print(audio_analysis)  # View sections of the track\n"
   ]
  },
  {
   "cell_type": "code",
   "execution_count": 3,
   "id": "d54108d7-35ab-415a-8f0e-ebb9272dad65",
   "metadata": {},
   "outputs": [],
   "source": [
    "from integrations.reddit import login\n",
    "import json\n",
    "import logging\n",
    "import time\n",
    "from dataclasses import dataclass, field\n",
    "from enum import Enum\n",
    "from io import BytesIO\n",
    "from typing import Any, Dict, List, Optional, Union\n",
    "from uuid import uuid4\n",
    "\n",
    "from PIL import Image\n",
    "from requests import get\n",
    "from selenium import webdriver\n",
    "from selenium.webdriver.common.action_chains import ActionChains\n",
    "from selenium.webdriver.common.by import By\n",
    "from selenium.webdriver.firefox.options import Options\n",
    "from selenium.webdriver.firefox.service import Service\n",
    "from selenium.webdriver.support import expected_conditions as EC\n",
    "from selenium.webdriver.support.ui import WebDriverWait\n",
    "\n",
    "from utils.globals import work_dir\n",
    "from utils.mongo import get_unused_id_dict\n",
    "\n"
   ]
  },
  {
   "cell_type": "code",
   "execution_count": 9,
   "id": "f6eb2853-e9ea-46cd-aebb-ce33d5bb7cc4",
   "metadata": {},
   "outputs": [],
   "source": [
    "options = Options()\n",
    "options.add_argument(\"--headless\")\n",
    "options.add_argument(\"--disable-gpu\")  # Disabilita GPU (utile per vecchi sistemi)\n",
    "options.add_argument(\"--no-sandbox\")  # Per sistemi senza ambiente grafico\n",
    "options.add_argument(\"--disable-dev-shm-usage\")  # Riduce il consumo di memoria condivisa\n",
    "options.add_argument('--disable-blink-features=AutomationControlled')\n",
    "# Specifica il percorso di GeckoDriver tramite la classe Service\n",
    "service = Service(\"/usr/local/bin/geckodriver\")\n",
    "driver = webdriver.Firefox(service=service, options=options)\n"
   ]
  },
  {
   "cell_type": "code",
   "execution_count": 26,
   "id": "90ce922d-4b7b-4587-9ce5-840cc56b3fdb",
   "metadata": {},
   "outputs": [
    {
     "data": {
      "text/plain": [
       "True"
      ]
     },
     "execution_count": 26,
     "metadata": {},
     "output_type": "execute_result"
    }
   ],
   "source": [
    "driver.get_screenshot_as_file(\"???.png\")"
   ]
  },
  {
   "cell_type": "code",
   "execution_count": 25,
   "id": "2cfd057a-7a98-4af0-80f6-20298e9b81fd",
   "metadata": {},
   "outputs": [],
   "source": [
    "driver.get(\"https://www.reddit.com/\")"
   ]
  },
  {
   "cell_type": "code",
   "execution_count": 17,
   "id": "f27c3526-34f1-4795-917d-397cdc5f4f9c",
   "metadata": {},
   "outputs": [],
   "source": [
    "username_field.send_keys(\"preludiodark@gmail.com\")"
   ]
  },
  {
   "cell_type": "code",
   "execution_count": 21,
   "id": "013a0415-7b32-4131-b7b3-ece3ee151ea0",
   "metadata": {},
   "outputs": [],
   "source": [
    "value = driver.execute_script(CLICK_SHADOW_ELEMENT_SCRIPT, \".login\")"
   ]
  },
  {
   "cell_type": "code",
   "execution_count": 20,
   "id": "c4854619-1f59-4df3-a24c-2df1742b24e0",
   "metadata": {},
   "outputs": [],
   "source": [
    "CLICK_SHADOW_ELEMENT_SCRIPT = \"\"\"\n",
    "    function querySelectorAllShadows(selector, el = document.body) {\n",
    "        const childShadows = Array.from(el.querySelectorAll('*')).map(el => el.shadowRoot).filter(Boolean);\n",
    "        const childResults = childShadows.map(child => querySelectorAllShadows(selector, child));\n",
    "        const result = Array.from(el.querySelectorAll(selector));\n",
    "        return result.concat(childResults).flat();\n",
    "    }\n",
    "    try {\n",
    "        querySelectorAllShadows(arguments[0])[0].click();\n",
    "        return true\n",
    "    } catch (error) {\n",
    "        return false\n",
    "    }\n",
    "\"\"\""
   ]
  },
  {
   "cell_type": "code",
   "execution_count": 22,
   "id": "8ff82ce2-12e3-4d72-ada0-4285cad45b48",
   "metadata": {},
   "outputs": [
    {
     "data": {
      "text/plain": [
       "True"
      ]
     },
     "execution_count": 22,
     "metadata": {},
     "output_type": "execute_result"
    }
   ],
   "source": [
    "value"
   ]
  },
  {
   "cell_type": "code",
   "execution_count": 3,
   "id": "bd82b3ad-a336-44c5-8a77-62c5c7708fe3",
   "metadata": {},
   "outputs": [],
   "source": [
    "from integrations.reddit import get_post_lists, Trend"
   ]
  },
  {
   "cell_type": "code",
   "execution_count": 4,
   "id": "9fec446f-e21b-4299-b3a3-a94854f5b7a6",
   "metadata": {},
   "outputs": [
    {
     "name": "stderr",
     "output_type": "stream",
     "text": [
      "/usr/local/lib/python3.9/site-packages/urllib3/connectionpool.py:1099: InsecureRequestWarning: Unverified HTTPS request is being made to host 'www.reddit.com'. Adding certificate verification is strongly advised. See: https://urllib3.readthedocs.io/en/latest/advanced-usage.html#tls-warnings\n",
      "  warnings.warn(\n"
     ]
    }
   ],
   "source": [
    "posts = get_post_lists(\"Italia\", Trend.HOT)"
   ]
  },
  {
   "cell_type": "code",
   "execution_count": 5,
   "id": "ca8fd8a2-1652-4b1a-8397-b5807f695cd3",
   "metadata": {},
   "outputs": [],
   "source": [
    "bruh = posts[0]"
   ]
  },
  {
   "cell_type": "code",
   "execution_count": 8,
   "id": "86221741-ba10-4e6e-b261-4a923c32258e",
   "metadata": {},
   "outputs": [
    {
     "data": {
      "text/plain": [
       "'1ha15zr'"
      ]
     },
     "execution_count": 8,
     "metadata": {},
     "output_type": "execute_result"
    }
   ],
   "source": [
    "bruh.data.id"
   ]
  },
  {
   "cell_type": "code",
   "execution_count": 1,
   "id": "09601a5a-10fe-44b3-9a6b-9390bae49730",
   "metadata": {},
   "outputs": [],
   "source": [
    "from integrations.pexel import get_video, get_video_query, Orientation\n",
    "import ssl\n",
    "\n",
    "ssl._create_default_https_context = ssl._create_unverified_context\n"
   ]
  },
  {
   "cell_type": "code",
   "execution_count": 2,
   "id": "9cb0912a-1f5b-4363-9d07-4b9e7c97d9a3",
   "metadata": {},
   "outputs": [],
   "source": [
    "test = get_video_query(\"sinister\", Orientation.PORTRAIT)"
   ]
  },
  {
   "cell_type": "code",
   "execution_count": 3,
   "id": "0fad8956-385c-40a0-95bd-6f1b15bf423b",
   "metadata": {},
   "outputs": [
    {
     "data": {
      "text/plain": [
       "[Video(id=7299549, width=2160, height=4096, duration=44, full_res=None, tags=[], url='https://www.pexels.com/video/a-couple-looking-at-each-other-7299549/', image='https://images.pexels.com/videos/7299549/pexels-photo-7299549.jpeg?auto=compress&cs=tinysrgb&fit=crop&h=1200&w=630', avg_color=None, user=User(id=1437723, name='cottonbro studio', url='https://www.pexels.com/@cottonbro'), video_files=[VideoFile(id=10385657, quality='hd', file_type='video/mp4', width=720, height=1366, fps=25.0, link='https://videos.pexels.com/video-files/7299549/7299549-hd_720_1366_25fps.mp4', size=6842017), VideoFile(id=10385672, quality='sd', file_type='video/mp4', width=338, height=640, fps=25.0, link='https://videos.pexels.com/video-files/7299549/7299549-sd_338_640_25fps.mp4', size=2031157), VideoFile(id=10385690, quality='sd', file_type='video/mp4', width=506, height=960, fps=25.0, link='https://videos.pexels.com/video-files/7299549/7299549-sd_506_960_25fps.mp4', size=3691228), VideoFile(id=10385704, quality='sd', file_type='video/mp4', width=226, height=426, fps=25.0, link='https://videos.pexels.com/video-files/7299549/7299549-sd_226_426_25fps.mp4', size=1198888), VideoFile(id=10385717, quality='hd', file_type='video/mp4', width=1080, height=2048, fps=25.0, link='https://videos.pexels.com/video-files/7299549/7299549-hd_1080_2048_25fps.mp4', size=16099321), VideoFile(id=10385741, quality='uhd', file_type='video/mp4', width=2160, height=4096, fps=25.0, link='https://videos.pexels.com/video-files/7299549/7299549-uhd_2160_4096_25fps.mp4', size=86011928), VideoFile(id=10385753, quality='uhd', file_type='video/mp4', width=1440, height=2732, fps=25.0, link='https://videos.pexels.com/video-files/7299549/7299549-uhd_1440_2732_25fps.mp4', size=28919159)], video_pictures=[VideoPicture(id=6148242, nr=0, picture='https://images.pexels.com/videos/7299549/pictures/preview-0.jpeg'), VideoPicture(id=6148250, nr=1, picture='https://images.pexels.com/videos/7299549/pictures/preview-1.jpeg'), VideoPicture(id=6148257, nr=2, picture='https://images.pexels.com/videos/7299549/pictures/preview-2.jpeg'), VideoPicture(id=6148263, nr=3, picture='https://images.pexels.com/videos/7299549/pictures/preview-3.jpeg'), VideoPicture(id=6148268, nr=4, picture='https://images.pexels.com/videos/7299549/pictures/preview-4.jpeg'), VideoPicture(id=6148275, nr=5, picture='https://images.pexels.com/videos/7299549/pictures/preview-5.jpeg'), VideoPicture(id=6148283, nr=6, picture='https://images.pexels.com/videos/7299549/pictures/preview-6.jpeg'), VideoPicture(id=6148286, nr=7, picture='https://images.pexels.com/videos/7299549/pictures/preview-7.jpeg'), VideoPicture(id=6148289, nr=8, picture='https://images.pexels.com/videos/7299549/pictures/preview-8.jpeg'), VideoPicture(id=6148292, nr=9, picture='https://images.pexels.com/videos/7299549/pictures/preview-9.jpeg'), VideoPicture(id=6148295, nr=10, picture='https://images.pexels.com/videos/7299549/pictures/preview-10.jpeg'), VideoPicture(id=6148298, nr=11, picture='https://images.pexels.com/videos/7299549/pictures/preview-11.jpeg'), VideoPicture(id=6148303, nr=12, picture='https://images.pexels.com/videos/7299549/pictures/preview-12.jpeg'), VideoPicture(id=6148309, nr=13, picture='https://images.pexels.com/videos/7299549/pictures/preview-13.jpeg'), VideoPicture(id=6148312, nr=14, picture='https://images.pexels.com/videos/7299549/pictures/preview-14.jpeg')]),\n",
       " Video(id=10473216, width=2160, height=4096, duration=36, full_res=None, tags=[], url='https://www.pexels.com/video/a-depressed-man-inside-the-prison-cell-10473216/', image='https://images.pexels.com/videos/10473216/cell-depression-sadness-despair-imprisoned-10473216.jpeg?auto=compress&cs=tinysrgb&fit=crop&h=1200&w=630', avg_color=None, user=User(id=22992178, name='Ron Lach', url='https://www.pexels.com/@ron-lach'), video_files=[VideoFile(id=11245134, quality='hd', file_type='video/mp4', width=720, height=1366, fps=25.0, link='https://videos.pexels.com/video-files/10473216/10473216-hd_720_1366_25fps.mp4', size=10069752), VideoFile(id=11245144, quality='sd', file_type='video/mp4', width=226, height=426, fps=25.0, link='https://videos.pexels.com/video-files/10473216/10473216-sd_226_426_25fps.mp4', size=1450454), VideoFile(id=11245152, quality='sd', file_type='video/mp4', width=338, height=640, fps=25.0, link='https://videos.pexels.com/video-files/10473216/10473216-sd_338_640_25fps.mp4', size=2257073), VideoFile(id=11245158, quality='uhd', file_type='video/mp4', width=1440, height=2732, fps=25.0, link='https://videos.pexels.com/video-files/10473216/10473216-uhd_1440_2732_25fps.mp4', size=51087706), VideoFile(id=11245166, quality='hd', file_type='video/mp4', width=1080, height=2048, fps=25.0, link='https://videos.pexels.com/video-files/10473216/10473216-hd_1080_2048_25fps.mp4', size=22982819), VideoFile(id=11245169, quality='uhd', file_type='video/mp4', width=2160, height=4096, fps=25.0, link='https://videos.pexels.com/video-files/10473216/10473216-uhd_2160_4096_25fps.mp4', size=107064015), VideoFile(id=11245176, quality='sd', file_type='video/mp4', width=506, height=960, fps=25.0, link='https://videos.pexels.com/video-files/10473216/10473216-sd_506_960_25fps.mp4', size=4715200)], video_pictures=[VideoPicture(id=11033557, nr=0, picture='https://images.pexels.com/videos/10473216/pictures/preview-0.jpeg'), VideoPicture(id=11033562, nr=1, picture='https://images.pexels.com/videos/10473216/pictures/preview-1.jpeg'), VideoPicture(id=11033571, nr=2, picture='https://images.pexels.com/videos/10473216/pictures/preview-2.jpeg'), VideoPicture(id=11033582, nr=3, picture='https://images.pexels.com/videos/10473216/pictures/preview-3.jpeg'), VideoPicture(id=11033588, nr=4, picture='https://images.pexels.com/videos/10473216/pictures/preview-4.jpeg'), VideoPicture(id=11033599, nr=5, picture='https://images.pexels.com/videos/10473216/pictures/preview-5.jpeg'), VideoPicture(id=11033608, nr=6, picture='https://images.pexels.com/videos/10473216/pictures/preview-6.jpeg'), VideoPicture(id=11033619, nr=7, picture='https://images.pexels.com/videos/10473216/pictures/preview-7.jpeg'), VideoPicture(id=11033632, nr=8, picture='https://images.pexels.com/videos/10473216/pictures/preview-8.jpeg'), VideoPicture(id=11033641, nr=9, picture='https://images.pexels.com/videos/10473216/pictures/preview-9.jpeg'), VideoPicture(id=11033660, nr=10, picture='https://images.pexels.com/videos/10473216/pictures/preview-10.jpeg'), VideoPicture(id=11033673, nr=11, picture='https://images.pexels.com/videos/10473216/pictures/preview-11.jpeg'), VideoPicture(id=11033681, nr=12, picture='https://images.pexels.com/videos/10473216/pictures/preview-12.jpeg'), VideoPicture(id=11033697, nr=13, picture='https://images.pexels.com/videos/10473216/pictures/preview-13.jpeg'), VideoPicture(id=11033709, nr=14, picture='https://images.pexels.com/videos/10473216/pictures/preview-14.jpeg')]),\n",
       " Video(id=5427490, width=2160, height=4096, duration=12, full_res=None, tags=[], url='https://www.pexels.com/video/creepy-clown-with-red-balloon-waving-5427490/', image='https://images.pexels.com/videos/5427490/pexels-photo-5427490.jpeg?auto=compress&cs=tinysrgb&fit=crop&h=1200&w=630', avg_color=None, user=User(id=1437723, name='cottonbro studio', url='https://www.pexels.com/@cottonbro'), video_files=[VideoFile(id=9697837, quality='uhd', file_type='video/mp4', width=1440, height=2732, fps=25.0, link='https://videos.pexels.com/video-files/5427490/5427490-uhd_1440_2732_25fps.mp4', size=12969277), VideoFile(id=9697865, quality='sd', file_type='video/mp4', width=506, height=960, fps=25.0, link='https://videos.pexels.com/video-files/5427490/5427490-sd_506_960_25fps.mp4', size=1253444), VideoFile(id=9697904, quality='sd', file_type='video/mp4', width=338, height=640, fps=25.0, link='https://videos.pexels.com/video-files/5427490/5427490-sd_338_640_25fps.mp4', size=563049), VideoFile(id=9697926, quality='uhd', file_type='video/mp4', width=2160, height=4096, fps=25.0, link='https://videos.pexels.com/video-files/5427490/5427490-uhd_2160_4096_25fps.mp4', size=30689732), VideoFile(id=9697970, quality='sd', file_type='video/mp4', width=226, height=426, fps=25.0, link='https://videos.pexels.com/video-files/5427490/5427490-sd_226_426_25fps.mp4', size=309453), VideoFile(id=9698000, quality='hd', file_type='video/mp4', width=1080, height=2048, fps=25.0, link='https://videos.pexels.com/video-files/5427490/5427490-hd_1080_2048_25fps.mp4', size=6311828), VideoFile(id=9698024, quality='hd', file_type='video/mp4', width=720, height=1366, fps=25.0, link='https://videos.pexels.com/video-files/5427490/5427490-hd_720_1366_25fps.mp4', size=2594696)], video_pictures=[VideoPicture(id=2813645, nr=0, picture='https://images.pexels.com/videos/5427490/pictures/preview-0.jpeg'), VideoPicture(id=2813655, nr=1, picture='https://images.pexels.com/videos/5427490/pictures/preview-1.jpeg'), VideoPicture(id=2813668, nr=2, picture='https://images.pexels.com/videos/5427490/pictures/preview-2.jpeg'), VideoPicture(id=2813680, nr=3, picture='https://images.pexels.com/videos/5427490/pictures/preview-3.jpeg'), VideoPicture(id=2813692, nr=4, picture='https://images.pexels.com/videos/5427490/pictures/preview-4.jpeg'), VideoPicture(id=2813703, nr=5, picture='https://images.pexels.com/videos/5427490/pictures/preview-5.jpeg'), VideoPicture(id=2813711, nr=6, picture='https://images.pexels.com/videos/5427490/pictures/preview-6.jpeg'), VideoPicture(id=2813719, nr=7, picture='https://images.pexels.com/videos/5427490/pictures/preview-7.jpeg'), VideoPicture(id=2813727, nr=8, picture='https://images.pexels.com/videos/5427490/pictures/preview-8.jpeg'), VideoPicture(id=2813731, nr=9, picture='https://images.pexels.com/videos/5427490/pictures/preview-9.jpeg'), VideoPicture(id=2813739, nr=10, picture='https://images.pexels.com/videos/5427490/pictures/preview-10.jpeg'), VideoPicture(id=2813745, nr=11, picture='https://images.pexels.com/videos/5427490/pictures/preview-11.jpeg'), VideoPicture(id=2813752, nr=12, picture='https://images.pexels.com/videos/5427490/pictures/preview-12.jpeg'), VideoPicture(id=2813763, nr=13, picture='https://images.pexels.com/videos/5427490/pictures/preview-13.jpeg'), VideoPicture(id=2813767, nr=14, picture='https://images.pexels.com/videos/5427490/pictures/preview-14.jpeg')]),\n",
       " Video(id=5427492, width=2160, height=4096, duration=8, full_res=None, tags=[], url='https://www.pexels.com/video/a-creepy-clown-attacking-a-kid-inside-an-abandoned-house-5427492/', image='https://images.pexels.com/videos/5427492/pexels-photo-5427492.jpeg?auto=compress&cs=tinysrgb&fit=crop&h=1200&w=630', avg_color=None, user=User(id=1437723, name='cottonbro studio', url='https://www.pexels.com/@cottonbro'), video_files=[VideoFile(id=9698067, quality='hd', file_type='video/mp4', width=720, height=1366, fps=25.0, link='https://videos.pexels.com/video-files/5427492/5427492-hd_720_1366_25fps.mp4', size=2519629), VideoFile(id=9698138, quality='hd', file_type='video/mp4', width=1080, height=2048, fps=25.0, link='https://videos.pexels.com/video-files/5427492/5427492-hd_1080_2048_25fps.mp4', size=5051295), VideoFile(id=9698571, quality='sd', file_type='video/mp4', width=338, height=640, fps=25.0, link='https://videos.pexels.com/video-files/5427492/5427492-sd_338_640_25fps.mp4', size=452229), VideoFile(id=9698798, quality='sd', file_type='video/mp4', width=226, height=426, fps=25.0, link='https://videos.pexels.com/video-files/5427492/5427492-sd_226_426_25fps.mp4', size=274376), VideoFile(id=9698894, quality='uhd', file_type='video/mp4', width=2160, height=4096, fps=25.0, link='https://videos.pexels.com/video-files/5427492/5427492-uhd_2160_4096_25fps.mp4', size=21677470), VideoFile(id=9699144, quality='uhd', file_type='video/mp4', width=1440, height=2732, fps=25.0, link='https://videos.pexels.com/video-files/5427492/5427492-uhd_1440_2732_25fps.mp4', size=12529902), VideoFile(id=9699430, quality='sd', file_type='video/mp4', width=506, height=960, fps=25.0, link='https://videos.pexels.com/video-files/5427492/5427492-sd_506_960_25fps.mp4', size=1337972)], video_pictures=[VideoPicture(id=2813556, nr=0, picture='https://images.pexels.com/videos/5427492/pictures/preview-0.jpeg'), VideoPicture(id=2813563, nr=1, picture='https://images.pexels.com/videos/5427492/pictures/preview-1.jpeg'), VideoPicture(id=2813569, nr=2, picture='https://images.pexels.com/videos/5427492/pictures/preview-2.jpeg'), VideoPicture(id=2813578, nr=3, picture='https://images.pexels.com/videos/5427492/pictures/preview-3.jpeg'), VideoPicture(id=2813588, nr=4, picture='https://images.pexels.com/videos/5427492/pictures/preview-4.jpeg'), VideoPicture(id=2813599, nr=5, picture='https://images.pexels.com/videos/5427492/pictures/preview-5.jpeg'), VideoPicture(id=2813610, nr=6, picture='https://images.pexels.com/videos/5427492/pictures/preview-6.jpeg'), VideoPicture(id=2813619, nr=7, picture='https://images.pexels.com/videos/5427492/pictures/preview-7.jpeg'), VideoPicture(id=2813628, nr=8, picture='https://images.pexels.com/videos/5427492/pictures/preview-8.jpeg'), VideoPicture(id=2813638, nr=9, picture='https://images.pexels.com/videos/5427492/pictures/preview-9.jpeg'), VideoPicture(id=2813647, nr=10, picture='https://images.pexels.com/videos/5427492/pictures/preview-10.jpeg'), VideoPicture(id=2813664, nr=11, picture='https://images.pexels.com/videos/5427492/pictures/preview-11.jpeg'), VideoPicture(id=2813675, nr=12, picture='https://images.pexels.com/videos/5427492/pictures/preview-12.jpeg'), VideoPicture(id=2813688, nr=13, picture='https://images.pexels.com/videos/5427492/pictures/preview-13.jpeg'), VideoPicture(id=2813699, nr=14, picture='https://images.pexels.com/videos/5427492/pictures/preview-14.jpeg')]),\n",
       " Video(id=7189100, width=2160, height=4096, duration=31, full_res=None, tags=[], url='https://www.pexels.com/video/an-animal-skull-7189100/', image='https://images.pexels.com/videos/7189100/pexels-photo-7189100.jpeg?auto=compress&cs=tinysrgb&fit=crop&h=1200&w=630', avg_color=None, user=User(id=1437723, name='cottonbro studio', url='https://www.pexels.com/@cottonbro'), video_files=[VideoFile(id=10336132, quality='sd', file_type='video/mp4', width=338, height=640, fps=25.0, link='https://videos.pexels.com/video-files/7189100/7189100-sd_338_640_25fps.mp4', size=1194680), VideoFile(id=10336212, quality='uhd', file_type='video/mp4', width=2160, height=4096, fps=25.0, link='https://videos.pexels.com/video-files/7189100/7189100-uhd_2160_4096_25fps.mp4', size=37401236), VideoFile(id=10336323, quality='sd', file_type='video/mp4', width=506, height=960, fps=25.0, link='https://videos.pexels.com/video-files/7189100/7189100-sd_506_960_25fps.mp4', size=2331231), VideoFile(id=10336470, quality='hd', file_type='video/mp4', width=1080, height=2048, fps=25.0, link='https://videos.pexels.com/video-files/7189100/7189100-hd_1080_2048_25fps.mp4', size=6889530), VideoFile(id=10336568, quality='uhd', file_type='video/mp4', width=1440, height=2732, fps=25.0, link='https://videos.pexels.com/video-files/7189100/7189100-uhd_1440_2732_25fps.mp4', size=11302402), VideoFile(id=10336646, quality='sd', file_type='video/mp4', width=226, height=426, fps=25.0, link='https://videos.pexels.com/video-files/7189100/7189100-sd_226_426_25fps.mp4', size=638184), VideoFile(id=10336773, quality='hd', file_type='video/mp4', width=720, height=1366, fps=25.0, link='https://videos.pexels.com/video-files/7189100/7189100-hd_720_1366_25fps.mp4', size=3413917)], video_pictures=[VideoPicture(id=5917137, nr=0, picture='https://images.pexels.com/videos/7189100/pictures/preview-0.jpeg'), VideoPicture(id=5917141, nr=1, picture='https://images.pexels.com/videos/7189100/pictures/preview-1.jpeg'), VideoPicture(id=5917146, nr=2, picture='https://images.pexels.com/videos/7189100/pictures/preview-2.jpeg'), VideoPicture(id=5917150, nr=3, picture='https://images.pexels.com/videos/7189100/pictures/preview-3.jpeg'), VideoPicture(id=5917153, nr=4, picture='https://images.pexels.com/videos/7189100/pictures/preview-4.jpeg'), VideoPicture(id=5917158, nr=5, picture='https://images.pexels.com/videos/7189100/pictures/preview-5.jpeg'), VideoPicture(id=5917164, nr=6, picture='https://images.pexels.com/videos/7189100/pictures/preview-6.jpeg'), VideoPicture(id=5917171, nr=7, picture='https://images.pexels.com/videos/7189100/pictures/preview-7.jpeg'), VideoPicture(id=5917177, nr=8, picture='https://images.pexels.com/videos/7189100/pictures/preview-8.jpeg'), VideoPicture(id=5917185, nr=9, picture='https://images.pexels.com/videos/7189100/pictures/preview-9.jpeg'), VideoPicture(id=5917194, nr=10, picture='https://images.pexels.com/videos/7189100/pictures/preview-10.jpeg'), VideoPicture(id=5917200, nr=11, picture='https://images.pexels.com/videos/7189100/pictures/preview-11.jpeg'), VideoPicture(id=5917205, nr=12, picture='https://images.pexels.com/videos/7189100/pictures/preview-12.jpeg'), VideoPicture(id=5917210, nr=13, picture='https://images.pexels.com/videos/7189100/pictures/preview-13.jpeg'), VideoPicture(id=5917215, nr=14, picture='https://images.pexels.com/videos/7189100/pictures/preview-14.jpeg')])]"
      ]
     },
     "execution_count": 3,
     "metadata": {},
     "output_type": "execute_result"
    }
   ],
   "source": [
    "test"
   ]
  },
  {
   "cell_type": "code",
   "execution_count": 8,
   "id": "385055ac-a5a7-4548-a49a-bf1619da5c0f",
   "metadata": {
    "scrolled": true
   },
   "outputs": [
    {
     "data": {
      "text/plain": [
       "Video(id=7299549, width=2160, height=4096, duration=44, full_res=None, tags=[], url='https://www.pexels.com/video/a-couple-looking-at-each-other-7299549/', image='https://images.pexels.com/videos/7299549/pexels-photo-7299549.jpeg?auto=compress&cs=tinysrgb&fit=crop&h=1200&w=630', avg_color=None, user=User(id=1437723, name='cottonbro studio', url='https://www.pexels.com/@cottonbro'), video_files=[VideoFile(id=10385657, quality='hd', file_type='video/mp4', width=720, height=1366, fps=25.0, link='https://videos.pexels.com/video-files/7299549/7299549-hd_720_1366_25fps.mp4', size=6842017), VideoFile(id=10385672, quality='sd', file_type='video/mp4', width=338, height=640, fps=25.0, link='https://videos.pexels.com/video-files/7299549/7299549-sd_338_640_25fps.mp4', size=2031157), VideoFile(id=10385690, quality='sd', file_type='video/mp4', width=506, height=960, fps=25.0, link='https://videos.pexels.com/video-files/7299549/7299549-sd_506_960_25fps.mp4', size=3691228), VideoFile(id=10385704, quality='sd', file_type='video/mp4', width=226, height=426, fps=25.0, link='https://videos.pexels.com/video-files/7299549/7299549-sd_226_426_25fps.mp4', size=1198888), VideoFile(id=10385717, quality='hd', file_type='video/mp4', width=1080, height=2048, fps=25.0, link='https://videos.pexels.com/video-files/7299549/7299549-hd_1080_2048_25fps.mp4', size=16099321), VideoFile(id=10385741, quality='uhd', file_type='video/mp4', width=2160, height=4096, fps=25.0, link='https://videos.pexels.com/video-files/7299549/7299549-uhd_2160_4096_25fps.mp4', size=86011928), VideoFile(id=10385753, quality='uhd', file_type='video/mp4', width=1440, height=2732, fps=25.0, link='https://videos.pexels.com/video-files/7299549/7299549-uhd_1440_2732_25fps.mp4', size=28919159)], video_pictures=[VideoPicture(id=6148242, nr=0, picture='https://images.pexels.com/videos/7299549/pictures/preview-0.jpeg'), VideoPicture(id=6148250, nr=1, picture='https://images.pexels.com/videos/7299549/pictures/preview-1.jpeg'), VideoPicture(id=6148257, nr=2, picture='https://images.pexels.com/videos/7299549/pictures/preview-2.jpeg'), VideoPicture(id=6148263, nr=3, picture='https://images.pexels.com/videos/7299549/pictures/preview-3.jpeg'), VideoPicture(id=6148268, nr=4, picture='https://images.pexels.com/videos/7299549/pictures/preview-4.jpeg'), VideoPicture(id=6148275, nr=5, picture='https://images.pexels.com/videos/7299549/pictures/preview-5.jpeg'), VideoPicture(id=6148283, nr=6, picture='https://images.pexels.com/videos/7299549/pictures/preview-6.jpeg'), VideoPicture(id=6148286, nr=7, picture='https://images.pexels.com/videos/7299549/pictures/preview-7.jpeg'), VideoPicture(id=6148289, nr=8, picture='https://images.pexels.com/videos/7299549/pictures/preview-8.jpeg'), VideoPicture(id=6148292, nr=9, picture='https://images.pexels.com/videos/7299549/pictures/preview-9.jpeg'), VideoPicture(id=6148295, nr=10, picture='https://images.pexels.com/videos/7299549/pictures/preview-10.jpeg'), VideoPicture(id=6148298, nr=11, picture='https://images.pexels.com/videos/7299549/pictures/preview-11.jpeg'), VideoPicture(id=6148303, nr=12, picture='https://images.pexels.com/videos/7299549/pictures/preview-12.jpeg'), VideoPicture(id=6148309, nr=13, picture='https://images.pexels.com/videos/7299549/pictures/preview-13.jpeg'), VideoPicture(id=6148312, nr=14, picture='https://images.pexels.com/videos/7299549/pictures/preview-14.jpeg')])"
      ]
     },
     "execution_count": 8,
     "metadata": {},
     "output_type": "execute_result"
    }
   ],
   "source": [
    "test[0]"
   ]
  },
  {
   "cell_type": "code",
   "execution_count": 7,
   "id": "e4a4cd01-8856-4c46-89f8-b74a17090bdb",
   "metadata": {},
   "outputs": [
    {
     "data": {
      "text/plain": [
       "VideoFile(id=10385741, quality='uhd', file_type='video/mp4', width=2160, height=4096, fps=25.0, link='https://videos.pexels.com/video-files/7299549/7299549-uhd_2160_4096_25fps.mp4', size=86011928)"
      ]
     },
     "execution_count": 7,
     "metadata": {},
     "output_type": "execute_result"
    }
   ],
   "source": [
    "max(test[0].video_files, key=lambda x: x.height)"
   ]
  },
  {
   "cell_type": "code",
   "execution_count": null,
   "id": "fce07a94-83bf-4b1d-bb6b-80e9c860e924",
   "metadata": {},
   "outputs": [],
   "source": []
  }
 ],
 "metadata": {
  "kernelspec": {
   "display_name": "Python 3 (ipykernel)",
   "language": "python",
   "name": "python3"
  },
  "language_info": {
   "codemirror_mode": {
    "name": "ipython",
    "version": 3
   },
   "file_extension": ".py",
   "mimetype": "text/x-python",
   "name": "python",
   "nbconvert_exporter": "python",
   "pygments_lexer": "ipython3",
   "version": "3.9.21"
  }
 },
 "nbformat": 4,
 "nbformat_minor": 5
}
