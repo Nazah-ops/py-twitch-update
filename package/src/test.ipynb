{
 "cells": [
  {
   "cell_type": "code",
   "execution_count": 1,
   "id": "eabbb78d-61bf-4fd2-b841-4a02d26b0983",
   "metadata": {},
   "outputs": [],
   "source": [
    "import logging\n",
    "import ssl\n",
    "\n",
    "from dotenv import load_dotenv\n",
    "\n",
    "from integrations.pexel import Orientation, Pexel\n",
    "from integrations.reddit import Reddit, Trend\n",
    "from integrations.sound import Sound\n",
    "from integrations.twitch import Twitch\n",
    "from title import TitleGeneration\n",
    "from utils.format import make_reel\n",
    "from utils.globals import clean_work_dir\n",
    "from utils.mongo import close_mongo_client\n",
    "from video_editor import VideoEditor\n",
    "from youtube import upload\n",
    "\n",
    "\"\"\" from youtube import Youtube \"\"\"\n",
    "\n",
    "TOTAL_VIDEO_TIME = 1 * 60\n",
    "\n",
    "logging.basicConfig(format=\"[%(asctime)s] - %(message)s\", level=logging.INFO,\n",
    "                    datefmt='%Y-%m-%d %H:%M:%S')\n",
    "\n",
    "ssl._create_default_https_context = ssl._create_unverified_context\n",
    "\n",
    "\n",
    "def main():\n",
    "    logging.info('Inizio processo di scraping e upload.')\n",
    "    load_dotenv(\"/app/keys/.env\")\n",
    "\n",
    "    clean_work_dir()\n",
    "    video, title = make_reel()\n",
    "    upload(video, title)\n",
    "    logging.info(f\"Video produced: {video}\")\n",
    "    \n",
    "    close_mongo_client()\n",
    "\n",
    "\n",
    "# NOTE TO SELF\n",
    "# per convertire un AVI pesante per l'into a un mov -> ffmpeg -i Editor.avi -map 0 -c:v png -c:a copy output.mov\n"
   ]
  },
  {
   "cell_type": "markdown",
   "id": "3b2e7923-4b78-4872-8110-b0b9a7cac53d",
   "metadata": {},
   "source": [
    "## GET SPOTY ACCESS TOKEN"
   ]
  },
  {
   "cell_type": "code",
   "execution_count": 14,
   "id": "eaafbdcb-7ddf-48a0-8f0a-50d77a97c326",
   "metadata": {},
   "outputs": [],
   "source": [
    "import requests\n",
    "import random\n",
    "import string\n",
    "import webbrowser\n",
    "\n",
    "# Configurazione\n",
    "client_id = '509ea51b57c34d2f804717e48b3f8969'\n",
    "redirect_uri = 'localhost'\n",
    "scope = 'user-read-private user-read-email'\n",
    "\n",
    "# Genera una stringa casuale per il parametro state\n",
    "def generate_random_string(length):\n",
    "    return ''.join(random.choices(string.ascii_letters + string.digits, k=length))\n",
    "\n",
    "# Step 1: Prepara l'URL di autorizzazione\n",
    "def get_authorization_url():\n",
    "    state = generate_random_string(16)\n",
    "    params = {\n",
    "        'response_type': 'code',\n",
    "        'client_id': client_id,\n",
    "        'scope': scope,\n",
    "        'redirect_uri': redirect_uri,\n",
    "        'state': state,\n",
    "    }\n",
    "    url = f\"https://accounts.spotify.com/authorize?{requests.compat.urlencode(params)}\"\n",
    "    return url\n",
    "\n",
    "data = get_authorization_url()\n"
   ]
  },
  {
   "cell_type": "code",
   "execution_count": 15,
   "id": "637fb6cb-2a40-4927-9792-2ec1505882e6",
   "metadata": {},
   "outputs": [
    {
     "data": {
      "text/plain": [
       "'https://accounts.spotify.com/authorize?response_type=code&client_id=509ea51b57c34d2f804717e48b3f8969&scope=user-read-private+user-read-email&redirect_uri=localhost&state=vCq2wD5UR1WhJQ07'"
      ]
     },
     "execution_count": 15,
     "metadata": {},
     "output_type": "execute_result"
    }
   ],
   "source": [
    "data"
   ]
  },
  {
   "cell_type": "markdown",
   "id": "45c32bd3-64ab-475c-9809-33933df1aa1c",
   "metadata": {},
   "source": [
    "## GET POPULAR SEGMENT"
   ]
  },
  {
   "cell_type": "code",
   "execution_count": 16,
   "id": "77d398b7-a1e4-4784-b7e3-9b0baff464de",
   "metadata": {},
   "outputs": [
    {
     "name": "stdout",
     "output_type": "stream",
     "text": [
      "{'error': {'status': 401, 'message': 'The access token expired'}}\n"
     ]
    }
   ],
   "source": [
    "import requests\n",
    "\n",
    "def get_audio_analysis(spotify_id, access_token):\n",
    "    url = f\"https://api.spotify.com/v1/audio-analysis/{spotify_id}\"\n",
    "    headers = {\n",
    "        \"Authorization\": f\"Bearer {access_token}\"\n",
    "    }\n",
    "    response = requests.get(url, headers=headers)\n",
    "    return response.json()\n",
    "\n",
    "# Replace with your Spotify ID and token\n",
    "spotify_id = \"2WuK1opHQzRo18YXCtY2DF\"\n",
    "\n",
    "audio_analysis = get_audio_analysis(spotify_id, token)\n",
    "print(audio_analysis)  # View sections of the track\n"
   ]
  },
  {
   "cell_type": "code",
   "execution_count": 3,
   "id": "d54108d7-35ab-415a-8f0e-ebb9272dad65",
   "metadata": {},
   "outputs": [],
   "source": [
    "from integrations.reddit import login\n",
    "import json\n",
    "import logging\n",
    "import time\n",
    "from dataclasses import dataclass, field\n",
    "from enum import Enum\n",
    "from io import BytesIO\n",
    "from typing import Any, Dict, List, Optional, Union\n",
    "from uuid import uuid4\n",
    "\n",
    "from PIL import Image\n",
    "from requests import get\n",
    "from selenium import webdriver\n",
    "from selenium.webdriver.common.action_chains import ActionChains\n",
    "from selenium.webdriver.common.by import By\n",
    "from selenium.webdriver.firefox.options import Options\n",
    "from selenium.webdriver.firefox.service import Service\n",
    "from selenium.webdriver.support import expected_conditions as EC\n",
    "from selenium.webdriver.support.ui import WebDriverWait\n",
    "\n",
    "from utils.globals import work_dir\n",
    "from utils.mongo import get_unused_id_dict\n",
    "\n"
   ]
  },
  {
   "cell_type": "code",
   "execution_count": 9,
   "id": "f6eb2853-e9ea-46cd-aebb-ce33d5bb7cc4",
   "metadata": {},
   "outputs": [],
   "source": [
    "options = Options()\n",
    "options.add_argument(\"--headless\")\n",
    "options.add_argument(\"--disable-gpu\")  # Disabilita GPU (utile per vecchi sistemi)\n",
    "options.add_argument(\"--no-sandbox\")  # Per sistemi senza ambiente grafico\n",
    "options.add_argument(\"--disable-dev-shm-usage\")  # Riduce il consumo di memoria condivisa\n",
    "options.add_argument('--disable-blink-features=AutomationControlled')\n",
    "# Specifica il percorso di GeckoDriver tramite la classe Service\n",
    "service = Service(\"/usr/local/bin/geckodriver\")\n",
    "driver = webdriver.Firefox(service=service, options=options)\n"
   ]
  },
  {
   "cell_type": "code",
   "execution_count": 26,
   "id": "90ce922d-4b7b-4587-9ce5-840cc56b3fdb",
   "metadata": {},
   "outputs": [
    {
     "data": {
      "text/plain": [
       "True"
      ]
     },
     "execution_count": 26,
     "metadata": {},
     "output_type": "execute_result"
    }
   ],
   "source": [
    "driver.get_screenshot_as_file(\"???.png\")"
   ]
  },
  {
   "cell_type": "code",
   "execution_count": 25,
   "id": "2cfd057a-7a98-4af0-80f6-20298e9b81fd",
   "metadata": {},
   "outputs": [],
   "source": [
    "driver.get(\"https://www.reddit.com/\")"
   ]
  },
  {
   "cell_type": "code",
   "execution_count": 17,
   "id": "f27c3526-34f1-4795-917d-397cdc5f4f9c",
   "metadata": {},
   "outputs": [],
   "source": [
    "username_field.send_keys(\"preludiodark@gmail.com\")"
   ]
  },
  {
   "cell_type": "code",
   "execution_count": 21,
   "id": "013a0415-7b32-4131-b7b3-ece3ee151ea0",
   "metadata": {},
   "outputs": [],
   "source": [
    "value = driver.execute_script(CLICK_SHADOW_ELEMENT_SCRIPT, \".login\")"
   ]
  },
  {
   "cell_type": "code",
   "execution_count": 20,
   "id": "c4854619-1f59-4df3-a24c-2df1742b24e0",
   "metadata": {},
   "outputs": [],
   "source": [
    "CLICK_SHADOW_ELEMENT_SCRIPT = \"\"\"\n",
    "    function querySelectorAllShadows(selector, el = document.body) {\n",
    "        const childShadows = Array.from(el.querySelectorAll('*')).map(el => el.shadowRoot).filter(Boolean);\n",
    "        const childResults = childShadows.map(child => querySelectorAllShadows(selector, child));\n",
    "        const result = Array.from(el.querySelectorAll(selector));\n",
    "        return result.concat(childResults).flat();\n",
    "    }\n",
    "    try {\n",
    "        querySelectorAllShadows(arguments[0])[0].click();\n",
    "        return true\n",
    "    } catch (error) {\n",
    "        return false\n",
    "    }\n",
    "\"\"\""
   ]
  },
  {
   "cell_type": "code",
   "execution_count": 22,
   "id": "8ff82ce2-12e3-4d72-ada0-4285cad45b48",
   "metadata": {},
   "outputs": [
    {
     "data": {
      "text/plain": [
       "True"
      ]
     },
     "execution_count": 22,
     "metadata": {},
     "output_type": "execute_result"
    }
   ],
   "source": [
    "value"
   ]
  },
  {
   "cell_type": "code",
   "execution_count": null,
   "id": "bd82b3ad-a336-44c5-8a77-62c5c7708fe3",
   "metadata": {},
   "outputs": [],
   "source": []
  }
 ],
 "metadata": {
  "kernelspec": {
   "display_name": "Python 3 (ipykernel)",
   "language": "python",
   "name": "python3"
  },
  "language_info": {
   "codemirror_mode": {
    "name": "ipython",
    "version": 3
   },
   "file_extension": ".py",
   "mimetype": "text/x-python",
   "name": "python",
   "nbconvert_exporter": "python",
   "pygments_lexer": "ipython3",
   "version": "3.9.21"
  }
 },
 "nbformat": 4,
 "nbformat_minor": 5
}
